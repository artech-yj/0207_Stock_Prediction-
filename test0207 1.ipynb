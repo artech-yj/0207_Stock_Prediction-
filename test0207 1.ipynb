{
 "cells": [
  {
   "cell_type": "code",
   "execution_count": 20,
   "metadata": {},
   "outputs": [],
   "source": [
    "import pandas as pd\n",
    "import numpy as np\n",
    "import matplotlib.pyplot as plt\n",
    "from keras.models import Sequential\n",
    "from keras.layers import LSTM, Dropout, Dense, Activation\n",
    "# from keras.callbacks import TensorBoard, ModelCheckpoint, ReduceLROnPlateau\n",
    "import datetime"
   ]
  },
  {
   "cell_type": "markdown",
   "metadata": {},
   "source": [
    "# Load Dataset"
   ]
  },
  {
   "cell_type": "code",
   "execution_count": 21,
   "metadata": {
    "scrolled": true
   },
   "outputs": [
    {
     "data": {
      "text/html": [
       "<div>\n",
       "<style scoped>\n",
       "    .dataframe tbody tr th:only-of-type {\n",
       "        vertical-align: middle;\n",
       "    }\n",
       "\n",
       "    .dataframe tbody tr th {\n",
       "        vertical-align: top;\n",
       "    }\n",
       "\n",
       "    .dataframe thead th {\n",
       "        text-align: right;\n",
       "    }\n",
       "</style>\n",
       "<table border=\"1\" class=\"dataframe\">\n",
       "  <thead>\n",
       "    <tr style=\"text-align: right;\">\n",
       "      <th></th>\n",
       "      <th>Date</th>\n",
       "      <th>Open</th>\n",
       "      <th>High</th>\n",
       "      <th>Low</th>\n",
       "      <th>Close</th>\n",
       "      <th>Adj Close</th>\n",
       "      <th>Volume</th>\n",
       "    </tr>\n",
       "  </thead>\n",
       "  <tbody>\n",
       "    <tr>\n",
       "      <th>0</th>\n",
       "      <td>2016-01-04</td>\n",
       "      <td>25200.0</td>\n",
       "      <td>25200.0</td>\n",
       "      <td>24100.0</td>\n",
       "      <td>24100.0</td>\n",
       "      <td>1157.629150</td>\n",
       "      <td>15346950.0</td>\n",
       "    </tr>\n",
       "    <tr>\n",
       "      <th>1</th>\n",
       "      <td>2016-01-05</td>\n",
       "      <td>24040.0</td>\n",
       "      <td>24360.0</td>\n",
       "      <td>23720.0</td>\n",
       "      <td>24160.0</td>\n",
       "      <td>1160.511230</td>\n",
       "      <td>10800100.0</td>\n",
       "    </tr>\n",
       "    <tr>\n",
       "      <th>2</th>\n",
       "      <td>2016-01-06</td>\n",
       "      <td>24160.0</td>\n",
       "      <td>24160.0</td>\n",
       "      <td>23360.0</td>\n",
       "      <td>23500.0</td>\n",
       "      <td>1128.808350</td>\n",
       "      <td>18337600.0</td>\n",
       "    </tr>\n",
       "    <tr>\n",
       "      <th>3</th>\n",
       "      <td>2016-01-07</td>\n",
       "      <td>23320.0</td>\n",
       "      <td>23660.0</td>\n",
       "      <td>23020.0</td>\n",
       "      <td>23260.0</td>\n",
       "      <td>1117.280273</td>\n",
       "      <td>14119400.0</td>\n",
       "    </tr>\n",
       "    <tr>\n",
       "      <th>4</th>\n",
       "      <td>2016-01-08</td>\n",
       "      <td>23260.0</td>\n",
       "      <td>23720.0</td>\n",
       "      <td>23260.0</td>\n",
       "      <td>23420.0</td>\n",
       "      <td>1124.965698</td>\n",
       "      <td>12888150.0</td>\n",
       "    </tr>\n",
       "  </tbody>\n",
       "</table>\n",
       "</div>"
      ],
      "text/plain": [
       "         Date     Open     High      Low    Close    Adj Close      Volume\n",
       "0  2016-01-04  25200.0  25200.0  24100.0  24100.0  1157.629150  15346950.0\n",
       "1  2016-01-05  24040.0  24360.0  23720.0  24160.0  1160.511230  10800100.0\n",
       "2  2016-01-06  24160.0  24160.0  23360.0  23500.0  1128.808350  18337600.0\n",
       "3  2016-01-07  23320.0  23660.0  23020.0  23260.0  1117.280273  14119400.0\n",
       "4  2016-01-08  23260.0  23720.0  23260.0  23420.0  1124.965698  12888150.0"
      ]
     },
     "execution_count": 21,
     "metadata": {},
     "output_type": "execute_result"
    }
   ],
   "source": [
    "data = pd.read_csv('data/data_samsung.csv')\n",
    "data.head()"
   ]
  },
  {
   "cell_type": "markdown",
   "metadata": {},
   "source": [
    "# Compute Mid Price"
   ]
  },
  {
   "cell_type": "code",
   "execution_count": 22,
   "metadata": {},
   "outputs": [],
   "source": [
    "high_prices = data['High'].values\n",
    "low_prices = data['Low'].values\n",
    "mid_prices = (high_prices + low_prices) / 2"
   ]
  },
  {
   "cell_type": "markdown",
   "metadata": {},
   "source": [
    "# Create Windows"
   ]
  },
  {
   "cell_type": "code",
   "execution_count": 23,
   "metadata": {},
   "outputs": [],
   "source": [
    "seq_len = 50\n",
    "sequence_length = seq_len + 1\n",
    "\n",
    "result = []\n",
    "for index in range(len(mid_prices) - sequence_length):\n",
    "    result.append(mid_prices[index: index + sequence_length])"
   ]
  },
  {
   "cell_type": "markdown",
   "metadata": {},
   "source": [
    "# Normalize Data"
   ]
  },
  {
   "cell_type": "code",
   "execution_count": 24,
   "metadata": {},
   "outputs": [
    {
     "data": {
      "text/plain": [
       "((856, 50, 1), (95, 50, 1))"
      ]
     },
     "execution_count": 24,
     "metadata": {},
     "output_type": "execute_result"
    }
   ],
   "source": [
    "normalized_data = []\n",
    "for window in result:\n",
    "    normalized_window = [((float(p) / float(window[0])) - 1) for p in window]\n",
    "    normalized_data.append(normalized_window)\n",
    "\n",
    "result = np.array(normalized_data)\n",
    "\n",
    "# split train and test data\n",
    "row = int(round(result.shape[0] * 0.9))\n",
    "train = result[:row, :]\n",
    "np.random.shuffle(train)\n",
    "\n",
    "x_train = train[:, :-1]\n",
    "x_train = np.reshape(x_train, (x_train.shape[0], x_train.shape[1], 1))\n",
    "y_train = train[:, -1]\n",
    "\n",
    "x_test = result[row:, :-1]\n",
    "x_test = np.reshape(x_test, (x_test.shape[0], x_test.shape[1], 1))\n",
    "y_test = result[row:, -1]\n",
    "\n",
    "x_train.shape, x_test.shape"
   ]
  },
  {
   "cell_type": "markdown",
   "metadata": {},
   "source": [
    "# Build a Model"
   ]
  },
  {
   "cell_type": "code",
   "execution_count": 25,
   "metadata": {},
   "outputs": [
    {
     "name": "stdout",
     "output_type": "stream",
     "text": [
      "Model: \"sequential_2\"\n",
      "_________________________________________________________________\n",
      "Layer (type)                 Output Shape              Param #   \n",
      "=================================================================\n",
      "lstm_3 (LSTM)                (None, 50, 50)            10400     \n",
      "_________________________________________________________________\n",
      "lstm_4 (LSTM)                (None, 64)                29440     \n",
      "_________________________________________________________________\n",
      "dense_2 (Dense)              (None, 1)                 65        \n",
      "=================================================================\n",
      "Total params: 39,905\n",
      "Trainable params: 39,905\n",
      "Non-trainable params: 0\n",
      "_________________________________________________________________\n"
     ]
    }
   ],
   "source": [
    "model = Sequential()\n",
    "\n",
    "model.add(LSTM(50, return_sequences=True, input_shape=(50, 1)))\n",
    "\n",
    "model.add(LSTM(64, return_sequences=False))\n",
    "\n",
    "model.add(Dense(1, activation='linear'))\n",
    "\n",
    "model.compile(loss='mse', optimizer='rmsprop')\n",
    "\n",
    "model.summary()"
   ]
  },
  {
   "cell_type": "markdown",
   "metadata": {},
   "source": [
    "# Training"
   ]
  },
  {
   "cell_type": "code",
   "execution_count": 26,
   "metadata": {
    "scrolled": true
   },
   "outputs": [
    {
     "name": "stdout",
     "output_type": "stream",
     "text": [
      "Train on 856 samples, validate on 95 samples\n",
      "Epoch 1/20\n",
      "856/856 [==============================] - 3s 4ms/step - loss: nan - val_loss: nan\n",
      "Epoch 2/20\n",
      "856/856 [==============================] - 3s 3ms/step - loss: nan - val_loss: nan\n",
      "Epoch 3/20\n",
      "856/856 [==============================] - 3s 3ms/step - loss: nan - val_loss: nan\n",
      "Epoch 4/20\n",
      "856/856 [==============================] - 3s 3ms/step - loss: nan - val_loss: nan\n",
      "Epoch 5/20\n",
      "856/856 [==============================] - 2s 3ms/step - loss: nan - val_loss: nan\n",
      "Epoch 6/20\n",
      "856/856 [==============================] - 3s 3ms/step - loss: nan - val_loss: nan\n",
      "Epoch 7/20\n",
      "856/856 [==============================] - 3s 3ms/step - loss: nan - val_loss: nan\n",
      "Epoch 8/20\n",
      "856/856 [==============================] - 3s 3ms/step - loss: nan - val_loss: nan\n",
      "Epoch 9/20\n",
      "856/856 [==============================] - 3s 3ms/step - loss: nan - val_loss: nan\n",
      "Epoch 10/20\n",
      "856/856 [==============================] - 3s 3ms/step - loss: nan - val_loss: nan\n",
      "Epoch 11/20\n",
      "856/856 [==============================] - 3s 3ms/step - loss: nan - val_loss: nan\n",
      "Epoch 12/20\n",
      "856/856 [==============================] - 3s 3ms/step - loss: nan - val_loss: nan\n",
      "Epoch 13/20\n",
      "856/856 [==============================] - 3s 3ms/step - loss: nan - val_loss: nan\n",
      "Epoch 14/20\n",
      "856/856 [==============================] - 3s 3ms/step - loss: nan - val_loss: nan\n",
      "Epoch 15/20\n",
      "856/856 [==============================] - 2s 3ms/step - loss: nan - val_loss: nan\n",
      "Epoch 16/20\n",
      "856/856 [==============================] - 2s 3ms/step - loss: nan - val_loss: nan\n",
      "Epoch 17/20\n",
      "856/856 [==============================] - 2s 3ms/step - loss: nan - val_loss: nan\n",
      "Epoch 18/20\n",
      "856/856 [==============================] - 3s 3ms/step - loss: nan - val_loss: nan\n",
      "Epoch 19/20\n",
      "856/856 [==============================] - 3s 3ms/step - loss: nan - val_loss: nan\n",
      "Epoch 20/20\n",
      "856/856 [==============================] - 3s 3ms/step - loss: nan - val_loss: nan\n"
     ]
    },
    {
     "data": {
      "text/plain": [
       "<keras.callbacks.callbacks.History at 0x20c259a2828>"
      ]
     },
     "execution_count": 26,
     "metadata": {},
     "output_type": "execute_result"
    }
   ],
   "source": [
    "model.fit(x_train, y_train,\n",
    "    validation_data=(x_test, y_test),\n",
    "    batch_size=10,\n",
    "    epochs=20)"
   ]
  },
  {
   "cell_type": "markdown",
   "metadata": {},
   "source": [
    "# Prediction"
   ]
  },
  {
   "cell_type": "code",
   "execution_count": 30,
   "metadata": {},
   "outputs": [
    {
     "data": {
      "image/png": "[encoded data removed]",
      "text/plain": [
       "<Figure size 1440x720 with 1 Axes>"
      ]
     },
     "metadata": {},
     "output_type": "display_data"
    }
   ],
   "source": [
    "pred = model.predict(x_test)\n",
    "\n",
    "fig = plt.figure(facecolor='white', figsize=(20, 10))\n",
    "ax = fig.add_subplot(111)\n",
    "ax.plot(y_test, label='True')\n",
    "ax.plot(pred, label='Prediction')\n",
    "ax.legend()\n",
    "plt.show()"
   ]
  },
  {
   "cell_type": "code",
   "execution_count": 28,
   "metadata": {},
   "outputs": [
    {
     "name": "stdout",
     "output_type": "stream",
     "text": [
      "종가 :  0.03618421052631571 / 예측가 :  [nan]\n",
      "종가 :  0.08861469433538982 / 예측가 :  [nan]\n",
      "종가 :  0.09484193011647246 / 예측가 :  [nan]\n",
      "종가 :  0.07255864702673209 / 예측가 :  [nan]\n",
      "종가 :  0.06256742179072283 / 예측가 :  [nan]\n"
     ]
    }
   ],
   "source": [
    "for i in range(5):\n",
    "    print('종가 : ', y_test[i], '/ 예측가 : ', pred[i])"
   ]
  },
  {
   "cell_type": "code",
   "execution_count": null,
   "metadata": {},
   "outputs": [],
   "source": []
  }
 ],
 "metadata": {
  "kernelspec": {
   "display_name": "Python 3",
   "language": "python",
   "name": "python3"
  },
  "language_info": {
   "codemirror_mode": {
    "name": "ipython",
    "version": 3
   },
   "file_extension": ".py",
   "mimetype": "text/x-python",
   "name": "python",
   "nbconvert_exporter": "python",
   "pygments_lexer": "ipython3",
   "version": "3.7.3"
  }
 },
 "nbformat": 4,
 "nbformat_minor": 2
}
